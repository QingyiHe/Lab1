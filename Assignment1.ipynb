{
 "cells": [
  {
   "cell_type": "markdown",
   "metadata": {},
   "source": [
    "#### question 1—4"
   ]
  },
  {
   "cell_type": "code",
   "execution_count": 13,
   "metadata": {},
   "outputs": [
    {
     "name": "stdout",
     "output_type": "stream",
     "text": [
      "['banana', 'apple', 'orange', 'mango', 'peach']\n",
      "I found it!\n",
      "['banana', 'apple', 'orange', 'mango', 'peach', 'strawberry', 'grapes']\n",
      "banana has 6 letters\n",
      "apple has 5 letters\n",
      "orange has 6 letters\n",
      "mango has 5 letters\n",
      "peach has 5 letters\n",
      "strawberry has 10 letters\n",
      "grapes has 6 letters\n"
     ]
    }
   ],
   "source": [
    "# question 1\n",
    "fruit = [\"banana\",\"apple\",\"orange\",\"mango\",\"peach\"]\n",
    "print(fruit)\n",
    "\n",
    "# question 2\n",
    "for i in fruit:\n",
    "    if (i == \"apple\"):\n",
    "        print(\"I found it!\")\n",
    "    else:\n",
    "        pass\n",
    "\n",
    "# question 3\n",
    "fruit.append(\"strawberry\")\n",
    "fruit.append(\"grapes\")\n",
    "print(fruit)\n",
    "\n",
    "# question 4\n",
    "num_letter = [\"\"]\n",
    "for t in fruit:\n",
    "    num = len(t)\n",
    "    entry = t+\" has \"+str(num)+\" letters\"\n",
    "    print(entry)"
   ]
  },
  {
   "cell_type": "markdown",
   "metadata": {},
   "source": [
    "#### question 5"
   ]
  },
  {
   "cell_type": "code",
   "execution_count": 1,
   "metadata": {},
   "outputs": [
    {
     "name": "stdout",
     "output_type": "stream",
     "text": [
      "[3, 3, 4, 5, 6]\n",
      "[4.5, 4.5, 8.0, 12.5, 18.0]\n"
     ]
    }
   ],
   "source": [
    "def half_squared(l):\n",
    "    s = []\n",
    "    for i in l:\n",
    "        new_s = i*i/2\n",
    "        s.append(new_s)\n",
    "    print(l)\n",
    "    print(s)\n",
    "\n",
    "half_squared([3,3,4,5,6])"
   ]
  },
  {
   "cell_type": "markdown",
   "metadata": {},
   "source": [
    "#### question 6"
   ]
  },
  {
   "cell_type": "code",
   "execution_count": 2,
   "metadata": {},
   "outputs": [
    {
     "name": "stdout",
     "output_type": "stream",
     "text": [
      "How many scores do you want to input:2\n",
      "Input your score please:23.5\n",
      "Score: 23.5; Grade: C\n",
      "Input your score please:99.9\n",
      "Score: 99.9; Grade: A\n"
     ]
    }
   ],
   "source": [
    "def Grade_system():\n",
    "    score = float(input(\"Input your score please:\"))\n",
    "    if (90<=score<=100):\n",
    "        return \"Score: \"+str(score)+\"; Grade: A\"\n",
    "    elif (60<score<=89):\n",
    "        return \"Score: \"+str(score)+\"; Grade: B\"\n",
    "    elif (0<=score<=60):\n",
    "        return \"Score: \"+str(score)+\"; Grade: C\"\n",
    "    else:\n",
    "        return \"null\"\n",
    "    \n",
    "num = int(input(\"How many scores do you want to input:\"))\n",
    "cnt = 0\n",
    "while(cnt<num):\n",
    "    result = Grade_system()\n",
    "    if(result == \"null\"):\n",
    "        print(\"Wrong score,please input again!\")\n",
    "    else:\n",
    "        print(result)\n",
    "        cnt+=1"
   ]
  },
  {
   "cell_type": "markdown",
   "metadata": {},
   "source": [
    "#### question 7"
   ]
  },
  {
   "cell_type": "code",
   "execution_count": 2,
   "metadata": {},
   "outputs": [
    {
     "name": "stdout",
     "output_type": "stream",
     "text": [
      "12 4 3 "
     ]
    }
   ],
   "source": [
    "def revSort(a,b,c):\n",
    "    sort = [a,b,c]\n",
    "    for i in range(3):\n",
    "        for j in range(i+1,3):\n",
    "            if(sort[i]<sort[j]):\n",
    "                sort[i],sort[j] = sort[j],sort[i]\n",
    "    return sort\n",
    "\n",
    "for t in revSort(3,12,4):\n",
    "    print(str(t)+\" \",end = \"\")\n",
    "        "
   ]
  },
  {
   "cell_type": "markdown",
   "metadata": {},
   "source": [
    "#### question 8"
   ]
  },
  {
   "cell_type": "code",
   "execution_count": 5,
   "metadata": {},
   "outputs": [
    {
     "name": "stdout",
     "output_type": "stream",
     "text": [
      "1 2 3 4 5 6 "
     ]
    }
   ],
   "source": [
    "def traverse(arrs):\n",
    "    new_arrs = []\n",
    "    for i in arrs:\n",
    "        for t in i:\n",
    "            new_arrs.append(t)\n",
    "    return new_arrs   \n",
    "\n",
    "list1 = [1,2,3]\n",
    "list2 = [4,5,6]\n",
    "array = [list1,list2]\n",
    "for i in traverse(array):\n",
    "    print(str(i)+\" \",end = \"\")"
   ]
  },
  {
   "cell_type": "markdown",
   "metadata": {},
   "source": [
    "#### question 9"
   ]
  },
  {
   "cell_type": "code",
   "execution_count": 9,
   "metadata": {},
   "outputs": [
    {
     "name": "stdout",
     "output_type": "stream",
     "text": [
      "1\n",
      "512\n",
      "4913\n",
      "5832\n",
      "17576\n",
      "19683\n",
      "[1, 8, 17, 18, 26, 27]\n"
     ]
    }
   ],
   "source": [
    "a = []\n",
    "def f(x):\n",
    "    return x**3\n",
    "\n",
    "for t in range(1,101):\n",
    "    cube = str(f(t))\n",
    "    add_sum = 0\n",
    "    for i in range(len(cube)):\n",
    "        add_sum += int(cube[i])\n",
    "    if(add_sum == t):\n",
    "        a.append(t)\n",
    "\n",
    "for i in map(f,a):\n",
    "    print(i)\n",
    "print(a)"
   ]
  },
  {
   "cell_type": "markdown",
   "metadata": {},
   "source": [
    "#### question 10"
   ]
  },
  {
   "cell_type": "code",
   "execution_count": 11,
   "metadata": {},
   "outputs": [
    {
     "name": "stdout",
     "output_type": "stream",
     "text": [
      "10 8\n",
      "8 10\n"
     ]
    }
   ],
   "source": [
    "import random\n",
    "x = random.randint(1,10)\n",
    "y = random.randint(1,10)\n",
    "print(x,y)\n",
    "x,y = y,x\n",
    "print(x,y)"
   ]
  },
  {
   "cell_type": "markdown",
   "metadata": {},
   "source": [
    "#### question 11"
   ]
  },
  {
   "cell_type": "code",
   "execution_count": 4,
   "metadata": {},
   "outputs": [
    {
     "name": "stdout",
     "output_type": "stream",
     "text": [
      "   *   \n",
      "  ***  \n",
      " ***** \n",
      "*******\n",
      " ***** \n",
      "  ***  \n",
      "   *   \n"
     ]
    }
   ],
   "source": [
    "s = '*'\n",
    "for i in range(1,8,2):\n",
    "    t = (7-i)//2\n",
    "    print(' '*t + s*i + ' '*t)\n",
    "for i in reversed(range(1,6,2)):\n",
    "    t = (7-i)//2\n",
    "    print(' '*t + s*i + ' '*t)"
   ]
  },
  {
   "cell_type": "markdown",
   "metadata": {},
   "source": [
    "#### question 12"
   ]
  },
  {
   "cell_type": "code",
   "execution_count": 2,
   "metadata": {},
   "outputs": [
    {
     "name": "stdout",
     "output_type": "stream",
     "text": [
      "123456\n",
      "234561\n",
      "345612\n",
      "456123\n",
      "561234\n",
      "612345\n"
     ]
    }
   ],
   "source": [
    "for i in range(1,7):\n",
    "    a=[]\n",
    "    res = \"\"\n",
    "    for j in range(i,7):\n",
    "        a.append(str(j))\n",
    "    for v in range(1,i):\n",
    "        a.append(str(v))\n",
    "    print(res.join(a))"
   ]
  },
  {
   "cell_type": "code",
   "execution_count": 3,
   "metadata": {},
   "outputs": [
    {
     "name": "stdout",
     "output_type": "stream",
     "text": [
      "Charles Martina Michael Florence Eli "
     ]
    }
   ],
   "source": [
    "def title(a):\n",
    "    return a[0].upper()+a[1:].lower()\n",
    "\n",
    "players = ['charles','martina','michael','florence','eli']\n",
    "for i in players:\n",
    "    i = title(i)\n",
    "    print(i+\" \",end = \"\")"
   ]
  }
 ],
 "metadata": {
  "kernelspec": {
   "display_name": "Python 3",
   "language": "python",
   "name": "python3"
  },
  "language_info": {
   "codemirror_mode": {
    "name": "ipython",
    "version": 3
   },
   "file_extension": ".py",
   "mimetype": "text/x-python",
   "name": "python",
   "nbconvert_exporter": "python",
   "pygments_lexer": "ipython3",
   "version": "3.6.4"
  }
 },
 "nbformat": 4,
 "nbformat_minor": 2
}
