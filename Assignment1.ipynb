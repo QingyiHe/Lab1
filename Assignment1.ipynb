{
 "cells": [
  {
   "cell_type": "markdown",
   "metadata": {},
   "source": [
    "### Coding Questions"
   ]
  },
  {
   "cell_type": "markdown",
   "metadata": {},
   "source": [
    "To master your new found knowledge of Python, you should try these hands-on examples. "
   ]
  },
  {
   "cell_type": "markdown",
   "metadata": {},
   "source": [
    "1\\. Create a list of 5 fruits (make sure to include an apple)."
   ]
  },
  {
   "cell_type": "code",
   "execution_count": 3,
   "metadata": {},
   "outputs": [
    {
     "name": "stdout",
     "output_type": "stream",
     "text": [
      "['banana', 'apple', 'orange', 'mango', 'peach']\n"
     ]
    }
   ],
   "source": [
    "fruit = [\"banana\",\"apple\",\"orange\",\"mango\",\"peach\"]\n",
    "print(fruit)"
   ]
  },
  {
   "cell_type": "markdown",
   "metadata": {},
   "source": [
    "2\\. Go through each fruit and check if it is an apple. If it is, print out \"I found it!\". If it's not an apple, do nothing."
   ]
  },
  {
   "cell_type": "code",
   "execution_count": 7,
   "metadata": {},
   "outputs": [
    {
     "name": "stdout",
     "output_type": "stream",
     "text": [
      "I found it!\n"
     ]
    }
   ],
   "source": [
    "fruit = [\"banana\",\"apple\",\"orange\",\"mango\",\"peach\"]\n",
    "for i in fruit:\n",
    "    if (i == \"apple\"):\n",
    "        print(\"I found it!\")\n",
    "    else:\n",
    "        pass"
   ]
  },
  {
   "cell_type": "markdown",
   "metadata": {},
   "source": [
    "3\\. Add two new fruits to your list."
   ]
  },
  {
   "cell_type": "code",
   "execution_count": 8,
   "metadata": {},
   "outputs": [
    {
     "name": "stdout",
     "output_type": "stream",
     "text": [
      "['banana', 'apple', 'orange', 'mango', 'peach', 'strawberry', 'grapes']\n"
     ]
    }
   ],
   "source": [
    "fruit = [\"banana\",\"apple\",\"orange\",\"mango\",\"peach\"]\n",
    "fruit.append(\"strawberry\")\n",
    "fruit.append(\"grapes\")\n",
    "print(fruit)"
   ]
  },
  {
   "cell_type": "markdown",
   "metadata": {},
   "source": [
    "4\\. Create a new empty list. Go through your list of fruits, and for each one, add an entry to the new list that tells us how many letters each fruit name is."
   ]
  },
  {
   "cell_type": "code",
   "execution_count": 9,
   "metadata": {},
   "outputs": [
    {
     "name": "stdout",
     "output_type": "stream",
     "text": [
      "banana has 6 letters\n",
      "apple has 5 letters\n",
      "orange has 6 letters\n",
      "mango has 5 letters\n",
      "peach has 5 letters\n"
     ]
    }
   ],
   "source": [
    "fruit = [\"banana\",\"apple\",\"orange\",\"mango\",\"peach\"]\n",
    "num_letter = [\"\"]\n",
    "for t in fruit:\n",
    "    num = len(t)\n",
    "    entry = t+\" has \"+str(num)+\" letters\"\n",
    "    print(entry)"
   ]
  },
  {
   "cell_type": "markdown",
   "metadata": {},
   "source": [
    "5\\. Make a function called half_squared that takes a list and returns a new list where each element of the original is squared and then divided in half."
   ]
  },
  {
   "cell_type": "code",
   "execution_count": 2,
   "metadata": {},
   "outputs": [],
   "source": [
    "def half_squared(l):\n",
    "    s = []\n",
    "    for i in l:\n",
    "        new_s = i*i/2\n",
    "        s.append(new_s)\n",
    "    #print(l)\n",
    "    print(s)"
   ]
  },
  {
   "cell_type": "code",
   "execution_count": 36,
   "metadata": {},
   "outputs": [
    {
     "data": {
      "text/plain": [
       "True"
      ]
     },
     "execution_count": 36,
     "metadata": {},
     "output_type": "execute_result"
    }
   ],
   "source": [
    "## test the function\n",
    "half_squared([3,3]) == [4.5,4.5]\n"
   ]
  },
  {
   "cell_type": "markdown",
   "metadata": {},
   "source": [
    "6\\.   Read the following program:"
   ]
  },
  {
   "cell_type": "code",
   "execution_count": 1,
   "metadata": {},
   "outputs": [
    {
     "name": "stdout",
     "output_type": "stream",
     "text": [
      "input first number: 22\n",
      "input second number: 32\n",
      "32\n"
     ]
    }
   ],
   "source": [
    "a = int(input(\"input first number: \"))\n",
    "b = int(input(\"input second number: \"))\n",
    "if(a > b):\n",
    "    print(a)\n",
    "else:\n",
    "    print(b)"
   ]
  },
  {
   "cell_type": "markdown",
   "metadata": {},
   "source": [
    "What does the following program print? And you can input two number in the program to verify your answer. What does the program do???"
   ]
  },
  {
   "cell_type": "markdown",
   "metadata": {},
   "source": [
    "Now practice writing a program that takes as input some students scores and then outputs a grade (A, B, C). \n",
    "\n",
    "If scores >=90 points are represented by A, 60-89 points are represented by B, and 60 points or less are indicated by C.\n",
    "\n",
    "If the input student score is less than 0 greater than 100, make an error message for the user.\n",
    "\n",
    "You can look at the following links to see how other people have writen similar programs: https://study.163.com/course/courseLearn.htm?courseId=1004987028#/learn/live?lessonId=1051260552&courseId=1004987028"
   ]
  },
  {
   "cell_type": "code",
   "execution_count": 10,
   "metadata": {},
   "outputs": [
    {
     "name": "stdout",
     "output_type": "stream",
     "text": [
      "How many scores do you want to input:2\n",
      "Input your score please:55\n",
      "Score: 55.0; Grade: C\n",
      "Input your score please:99.5\n",
      "Score: 99.5; Grade: A\n"
     ]
    }
   ],
   "source": [
    "def Grade_system():\n",
    "    score = float(input(\"Input your score please:\"))\n",
    "    if (90<=score<=100):\n",
    "        return \"Score: \"+str(score)+\"; Grade: A\"\n",
    "    elif (60<score<=89):\n",
    "        return \"Score: \"+str(score)+\"; Grade: B\"\n",
    "    elif (0<=score<=60):\n",
    "        return \"Score: \"+str(score)+\"; Grade: C\"\n",
    "    else:\n",
    "        return \"null\"\n",
    "\n",
    "num = int(input(\"How many scores do you want to input:\"))\n",
    "cnt = 0\n",
    "while(cnt<num):\n",
    "    result = Grade_system()\n",
    "    if(result == \"null\"):\n",
    "        print(\"Wrong score,please input again!\")\n",
    "    else:\n",
    "        print(result)\n",
    "        cnt+=1"
   ]
  },
  {
   "cell_type": "markdown",
   "metadata": {},
   "source": [
    "7\\. Read the following program "
   ]
  },
  {
   "cell_type": "code",
   "execution_count": 7,
   "metadata": {},
   "outputs": [],
   "source": [
    "def exchange(a,b):\n",
    "    c = a\n",
    "    a = b\n",
    "    b = c\n",
    "    return a,b"
   ]
  },
  {
   "cell_type": "markdown",
   "metadata": {},
   "source": [
    "This program is an example of writing a function,it takes two variables a and b in that order and returns them as a tuple in reversed order (b,a). \n",
    "\n",
    "Once a function is declared it can be used in other code:"
   ]
  },
  {
   "cell_type": "code",
   "execution_count": 8,
   "metadata": {},
   "outputs": [
    {
     "data": {
      "text/plain": [
       "(20, 10)"
      ]
     },
     "execution_count": 8,
     "metadata": {},
     "output_type": "execute_result"
    }
   ],
   "source": [
    "exchange(10,20)"
   ]
  },
  {
   "cell_type": "markdown",
   "metadata": {},
   "source": [
    "Python code can be writen very concisely, for example the following is an alternative way to write the same program:"
   ]
  },
  {
   "cell_type": "code",
   "execution_count": 3,
   "metadata": {},
   "outputs": [],
   "source": [
    "def exchange(a,b):\n",
    "    a,b=b,a\n",
    "    return a,b"
   ]
  },
  {
   "cell_type": "code",
   "execution_count": 4,
   "metadata": {},
   "outputs": [
    {
     "data": {
      "text/plain": [
       "(20, 10)"
      ]
     },
     "execution_count": 4,
     "metadata": {},
     "output_type": "execute_result"
    }
   ],
   "source": [
    "exchange(10,20)"
   ]
  },
  {
   "cell_type": "markdown",
   "metadata": {},
   "source": [
    "Now using what we just learned try to write a program to take 3 numbers as input and sort them from large to small.\n",
    "\n",
    "For example  $revSort(12, 4, 32)$ will return (32, 12, 4)"
   ]
  },
  {
   "cell_type": "code",
   "execution_count": 5,
   "metadata": {},
   "outputs": [],
   "source": [
    "def revSort(a,b,c):\n",
    "    sort = [a,b,c]\n",
    "    for i in range(3):\n",
    "        for j in range(i+1,3):\n",
    "            if(sort[i]<sort[j]):\n",
    "                sort[i],sort[j] = sort[j],sort[i]\n",
    "    return sort\n",
    "\n",
    "for t in revSort(3,12,4):\n",
    "    print(str(t)+\" \",end = \"\")"
   ]
  },
  {
   "cell_type": "markdown",
   "metadata": {},
   "source": [
    "8\\.Read the following program"
   ]
  },
  {
   "cell_type": "code",
   "execution_count": 30,
   "metadata": {},
   "outputs": [],
   "source": [
    "list1 = [1,2,3]\n",
    "list2 = [4,5,6]\n",
    "array = [list1,list2]"
   ]
  },
  {
   "cell_type": "code",
   "execution_count": 31,
   "metadata": {},
   "outputs": [
    {
     "data": {
      "text/plain": [
       "[[1, 2, 3], [4, 5, 6]]"
      ]
     },
     "execution_count": 31,
     "metadata": {},
     "output_type": "execute_result"
    }
   ],
   "source": [
    "array"
   ]
  },
  {
   "cell_type": "markdown",
   "metadata": {},
   "source": [
    "we have created a two-dimensional array through the above progrem,can you traverse this two-dimensional array?\n",
    "For example $arrs = [[1,2,3],[4,5,6]]$ will return 1 2 3 4 5 6"
   ]
  },
  {
   "cell_type": "code",
   "execution_count": 11,
   "metadata": {},
   "outputs": [
    {
     "name": "stdout",
     "output_type": "stream",
     "text": [
      "1 2 3 4 5 6 "
     ]
    }
   ],
   "source": [
    "def traverse(arrs):\n",
    "    new_arrs = []\n",
    "    for i in arrs:\n",
    "        for t in i:\n",
    "            new_arrs.append(t)\n",
    "    return new_arrs   \n",
    "\n",
    "list1 = [1,2,3]\n",
    "list2 = [4,5,6]\n",
    "array = [list1,list2]\n",
    "for i in traverse(array):\n",
    "    print(str(i)+\" \",end = \"\")"
   ]
  },
  {
   "cell_type": "markdown",
   "metadata": {},
   "source": [
    "9\\. Read the following program"
   ]
  },
  {
   "cell_type": "code",
   "execution_count": 32,
   "metadata": {},
   "outputs": [
    {
     "name": "stdout",
     "output_type": "stream",
     "text": [
      "2\n",
      "4\n",
      "6\n",
      "8\n"
     ]
    }
   ],
   "source": [
    "a = [1,2,3,4]\n",
    "def f(x):\n",
    "    return x*2  #it is means 1*2 2*2 3*2 4*2\n",
    "for i in map(f,a):\n",
    "    print(i)"
   ]
  },
  {
   "cell_type": "code",
   "execution_count": 33,
   "metadata": {},
   "outputs": [
    {
     "name": "stdout",
     "output_type": "stream",
     "text": [
      "1\n",
      "4\n",
      "9\n",
      "16\n"
     ]
    }
   ],
   "source": [
    "a = [1,2,3,4]\n",
    "def f(x):\n",
    "    return x**2  #it is means 1^2 2^2 3^2 4^2\n",
    "for i in map(f,a):\n",
    "    print(i)\n"
   ]
  },
  {
   "cell_type": "markdown",
   "metadata": {},
   "source": [
    "look at above program,it will be userful for your to writing a program.it's a good program to explaination the map function"
   ]
  },
  {
   "cell_type": "markdown",
   "metadata": {},
   "source": [
    "Observe the following phenomenon: calulate the cube of some number (e.g., 1, 8, 17) , the sum of all digits in this cube equals to the number itself.（the max num is 100,and you should use the map function from above）\n",
    "- 1^3 = 1\n",
    "- 8^3  = 512  ->   5+1+2=8\n",
    "- 17^3 = 4913 ->   4+9+1+3=17"
   ]
  },
  {
   "cell_type": "code",
   "execution_count": 12,
   "metadata": {},
   "outputs": [
    {
     "name": "stdout",
     "output_type": "stream",
     "text": [
      "1\n",
      "512\n",
      "4913\n",
      "5832\n",
      "17576\n",
      "19683\n",
      "[1, 8, 17, 18, 26, 27]\n"
     ]
    }
   ],
   "source": [
    "a = []\n",
    "def f(x):\n",
    "    return x**3\n",
    "\n",
    "for t in range(1,101):\n",
    "    cube = str(f(t))\n",
    "    add_sum = 0\n",
    "    for i in range(len(cube)):\n",
    "        add_sum += int(cube[i])\n",
    "    if(add_sum == t):\n",
    "        a.append(t)\n",
    "\n",
    "for i in map(f,a):\n",
    "    print(i)\n",
    "print(a)"
   ]
  },
  {
   "cell_type": "markdown",
   "metadata": {},
   "source": [
    "10\\. Read the following program"
   ]
  },
  {
   "cell_type": "code",
   "execution_count": 11,
   "metadata": {},
   "outputs": [
    {
     "name": "stdout",
     "output_type": "stream",
     "text": [
      "3\n"
     ]
    }
   ],
   "source": [
    "import random\n",
    "x = random.randint(3,9)\n",
    "print(x)"
   ]
  },
  {
   "cell_type": "code",
   "execution_count": 12,
   "metadata": {},
   "outputs": [
    {
     "name": "stdout",
     "output_type": "stream",
     "text": [
      "4\n"
     ]
    }
   ],
   "source": [
    "import random\n",
    "x = random.randint(3,9)\n",
    "print(x)"
   ]
  },
  {
   "cell_type": "code",
   "execution_count": 2,
   "metadata": {},
   "outputs": [
    {
     "name": "stdout",
     "output_type": "stream",
     "text": [
      "5.899440675981316\n"
     ]
    }
   ],
   "source": [
    "import random\n",
    "x = random.uniform(3,8)\n",
    "print(x)"
   ]
  },
  {
   "cell_type": "markdown",
   "metadata": {},
   "source": [
    "they are the same code but you can get different result by using the random module"
   ]
  },
  {
   "cell_type": "markdown",
   "metadata": {},
   "source": [
    "Use the random module to generate two random integers x, y (1-10) and print them value, then exchange them value each other,and print them."
   ]
  },
  {
   "cell_type": "code",
   "execution_count": 13,
   "metadata": {},
   "outputs": [
    {
     "name": "stdout",
     "output_type": "stream",
     "text": [
      "9 8\n",
      "8 9\n"
     ]
    }
   ],
   "source": [
    "import random\n",
    "x = random.randint(1,10)\n",
    "y = random.randint(1,10)\n",
    "print(x,y)\n",
    "x,y = y,x\n",
    "print(x,y)"
   ]
  },
  {
   "cell_type": "markdown",
   "metadata": {},
   "source": [
    "11\\. Read the following program"
   ]
  },
  {
   "cell_type": "code",
   "execution_count": 5,
   "metadata": {},
   "outputs": [
    {
     "name": "stdout",
     "output_type": "stream",
     "text": [
      "   *   \n"
     ]
    }
   ],
   "source": [
    "print(\"   *   \")"
   ]
  },
  {
   "cell_type": "markdown",
   "metadata": {},
   "source": [
    "we can print space use the print function"
   ]
  },
  {
   "cell_type": "markdown",
   "metadata": {},
   "source": [
    "Please look at the following rules, code output,you can just use the print() without othething,but we will give the loop nesting code to print the diamond."
   ]
  },
  {
   "cell_type": "code",
   "execution_count": 4,
   "metadata": {},
   "outputs": [],
   "source": [
    "#     *\n",
    "#    ***\n",
    "#   *****\n",
    "#  *******\n",
    "#   *****\n",
    "#    ***\n",
    "#     *"
   ]
  },
  {
   "cell_type": "code",
   "execution_count": 14,
   "metadata": {},
   "outputs": [
    {
     "name": "stdout",
     "output_type": "stream",
     "text": [
      "   *   \n",
      "  ***  \n",
      " ***** \n",
      "*******\n",
      " ***** \n",
      "  ***  \n",
      "   *   \n"
     ]
    }
   ],
   "source": [
    "s = '*'\n",
    "for i in range(1,8,2):\n",
    "    t = (7-i)//2\n",
    "    print(' '*t + s*i + ' '*t)\n",
    "for i in reversed(range(1,6,2)):\n",
    "    t = (7-i)//2\n",
    "    print(' '*t + s*i + ' '*t)"
   ]
  },
  {
   "cell_type": "markdown",
   "metadata": {},
   "source": [
    "12\\. Read the following program\n"
   ]
  },
  {
   "cell_type": "markdown",
   "metadata": {},
   "source": [
    "Please read following program,and find some rules.\n",
    "- 123456\n",
    "- 23456\n",
    "- 3456\n",
    "- 456\n",
    "- 56\n",
    "- 6"
   ]
  },
  {
   "cell_type": "code",
   "execution_count": 5,
   "metadata": {},
   "outputs": [
    {
     "name": "stdout",
     "output_type": "stream",
     "text": [
      "123456\n",
      "23456\n",
      "3456\n",
      "456\n",
      "56\n",
      "6\n"
     ]
    }
   ],
   "source": [
    "for i in range(1,7):\n",
    "    for j in range(i,7):\n",
    "        print(j,end=\"\")\n",
    "    print()"
   ]
  },
  {
   "cell_type": "markdown",
   "metadata": {},
   "source": [
    "Please look at the following rules, Using for loop nested output.\n",
    "- 123456\n",
    "- 234561\n",
    "- 345612\n",
    "- 456123\n",
    "- 561234\n",
    "- 612345"
   ]
  },
  {
   "cell_type": "code",
   "execution_count": 15,
   "metadata": {},
   "outputs": [
    {
     "name": "stdout",
     "output_type": "stream",
     "text": [
      "123456\n",
      "234561\n",
      "345612\n",
      "456123\n",
      "561234\n",
      "612345\n"
     ]
    }
   ],
   "source": [
    "for i in range(1,7):\n",
    "    a=[]\n",
    "    res = \"\"\n",
    "    for j in range(i,7):\n",
    "        a.append(str(j))\n",
    "    for v in range(1,i):\n",
    "        a.append(str(v))\n",
    "    print(res.join(a))"
   ]
  },
  {
   "cell_type": "markdown",
   "metadata": {},
   "source": [
    "13\\. Read the following program"
   ]
  },
  {
   "cell_type": "code",
   "execution_count": 10,
   "metadata": {},
   "outputs": [
    {
     "name": "stdout",
     "output_type": "stream",
     "text": [
      "Charles\n"
     ]
    }
   ],
   "source": [
    "#title()\n",
    "players = \"charles\"\n",
    "print(players.title())"
   ]
  },
  {
   "cell_type": "code",
   "execution_count": 11,
   "metadata": {
    "scrolled": true
   },
   "outputs": [
    {
     "name": "stdout",
     "output_type": "stream",
     "text": [
      "['martina', 'michael', 'florence']\n",
      "['charles', 'martina']\n",
      "['michael', 'florence', 'eli']\n",
      "['michael', 'florence']\n"
     ]
    }
   ],
   "source": [
    "# Slice\n",
    "players = ['charles','martina','michael','florence','eli']\n",
    "print(players[1:4])\n",
    "print(players[:2])\n",
    "print(players[2:])\n",
    "print(players[-3:-1])"
   ]
  },
  {
   "cell_type": "markdown",
   "metadata": {},
   "source": [
    "use the for loop to slice the list ,and The first letter of the output list is capitalized. $players = ['charles','martina','michael','florence','eli']$    For example Charles Martina ..."
   ]
  },
  {
   "cell_type": "code",
   "execution_count": 16,
   "metadata": {
    "scrolled": false
   },
   "outputs": [
    {
     "name": "stdout",
     "output_type": "stream",
     "text": [
      "Charles Martina Michael Florence Eli "
     ]
    }
   ],
   "source": [
    "def title(a):\n",
    "    return a[0].upper()+a[1:].lower()\n",
    "\n",
    "players = ['charles','martina','michael','florence','eli']\n",
    "for i in players:\n",
    "    i = title(i)\n",
    "    print(i+\" \",end = \"\")"
   ]
  }
 ],
 "metadata": {
  "kernelspec": {
   "display_name": "Python 3",
   "language": "python",
   "name": "python3"
  },
  "language_info": {
   "codemirror_mode": {
    "name": "ipython",
    "version": 3
   },
   "file_extension": ".py",
   "mimetype": "text/x-python",
   "name": "python",
   "nbconvert_exporter": "python",
   "pygments_lexer": "ipython3",
   "version": "3.6.4"
  }
 },
 "nbformat": 4,
 "nbformat_minor": 2
}
