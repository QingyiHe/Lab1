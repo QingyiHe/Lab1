{
 "cells": [
  {
   "cell_type": "markdown",
   "metadata": {},
   "source": [
    "# Introduction to Artificial Intelligence for Non Computing"
   ]
  },
  {
   "cell_type": "markdown",
   "metadata": {},
   "source": [
    "## Practical 3 (weeks 5 - 6)"
   ]
  },
  {
   "cell_type": "markdown",
   "metadata": {},
   "source": [
    "The following links provide additional information about data analysis , machine learning and Numpy"
   ]
  },
  {
   "cell_type": "markdown",
   "metadata": {},
   "source": [
    "Python data analysis: https://www.imooc.com/learn/843\n",
    "machine learning: https://www.imooc.com/learn/717\n",
    "Numpy :https://www.imooc.com/learn/943"
   ]
  },
  {
   "cell_type": "markdown",
   "metadata": {},
   "source": [
    "#### Theory Questions"
   ]
  },
  {
   "cell_type": "markdown",
   "metadata": {},
   "source": [
    "1\\.Which of the following are true and which are false? Give brief explanations.\n",
    "- a. In a fully observable, turn-taking, zero-sum game between two perfectly rational players,it does not help the first player to know what strategy the second player is using—that is, what move the second player will make, given the first player's move.\n",
    "- b. In a partially observable, turn-taking, zero-sum game between two perfectly rational players, it does not help the first player to know what move the second player will make, given the first player's move.\n",
    "- c. A perfectly rational backgammon agent never loses.\n",
    "\n",
    "See textbook Chapter6 24.6"
   ]
  },
  {
   "cell_type": "markdown",
   "metadata": {},
   "source": [
    "_your answer here..._ \n",
    "- True. Because in a fully observable enviroment, the second player will play optimally. Knowing what the oponent will move does not change the move of the first player.\n",
    "- False. Because in a partial observable environment, and a zero-sum game, when you know the oponent's move tells the first player about the game state that actually only can be known by the second player.\n",
    "- False. Backgammon is a game of chance, and the oponent may consistently roll much better dice. The correct statement is that the expected winings are optimal.\n",
    "***"
   ]
  },
  {
   "cell_type": "markdown",
   "metadata": {},
   "source": [
    "2\\.Define in your own words the terms constraint, backtracking search, arc consistency,backjumping, min-conflicts, and cycle cutset.\n",
    "\n",
    "See textbook Chapter6 6.16"
   ]
  },
  {
   "cell_type": "markdown",
   "metadata": {},
   "source": [
    "_your answer here..._ \n",
    "- constraint: A constraint is a restriction on the possible values of two or more variables.\n",
    "- backtracking search: The backtracking algorithm traverses this search tree recursively, from the root down, in depth-first order. At each node c, the algorithm checks whether c can be completed to a valid solution. If it cannot, the whole sub-tree rooted at c is skipped (pruned). Otherwise, the algorithm (1) checks whether c itself is a valid solution, and if so reports it to the user; and (2) recursively enumerates all sub-trees of c. The two tests and the children of each node are defined by user-given procedures.\n",
    "- arc consistency: A directed arc from variable A to variable B in a CSP is arc consistent if, for every value in the current domain of A, there is some consistent value of B.\n",
    "- backjumping: Backjuming is a way of making backtracking search more efficient, by jumping back more than one level when a dead end is reached.\n",
    "- Min-conflicts: Min-conflicts is a heuristic for use with local search on CSPproblems. The heuristic says that when given a variable to modify, choose the value that conflicts with the fewest number of other variables.\n",
    "- cycle cutset: A cycle cutset is a set of variables which when removed from the constraint graph make it acyclic. When the variables of a cycle cutset are instantiated the remainder of the CSP can be solved in linear time.\n",
    "\n",
    "***"
   ]
  },
  {
   "cell_type": "markdown",
   "metadata": {},
   "source": [
    "3\\.Explain why it is a good heuristic to choose the variable that is most constrained but the value that is least constraining in a CSP search.\n",
    "\n",
    "See textbook Chapter6 6.9"
   ]
  },
  {
   "cell_type": "markdown",
   "metadata": {},
   "source": [
    "_your answer here..._ \n",
    "\n",
    "- Choosing the variable with the fewest legal values is called the minimum remaining values (MRV) heuristic. Once a variable has been selected, the algorithm must decide on the order in which to examine its values. For this, the least constraining value heuristic can be effective in some cases. It prefers the value that rules out the fewest choices for the neighboring variables in the constraint graph.\n",
    "***"
   ]
  },
  {
   "cell_type": "markdown",
   "metadata": {},
   "source": [
    "4\\.Consider the following procedure for choosing moves in games with chance nodes: \n",
    "- 1、Generate some dice-roll sequences (say, 50) down to a suitable depth (say, 8).\n",
    "- 2、With known dice rolls, the game tree becomes deterministic. For each dice-roll sequence,solve the resulting deterministic game tree using alpha-beta.\n",
    "- 3、Use the results to estimate the value of each move and to choose the best.Will this procedure work well? Why (or why not)?\n",
    "\n",
    "See textbook Chapter5 5.19"
   ]
  },
  {
   "cell_type": "markdown",
   "metadata": {},
   "source": [
    "_your answer here..._ \n",
    "- This procedure will give incorrect results. Mathematically, the procedure amounts to assuming that averaging commutes with min and max, which it does not. Intuitively, the choices made by each player in the deterministic trees are based on full knowledge of the future dice rolls, and bear no necessary relationship to the moves made without such knowledge.\n",
    "***"
   ]
  },
  {
   "cell_type": "markdown",
   "metadata": {},
   "source": [
    "5\\. Now,please consider this game:  there are three plates A, B and C, each plate has three bills. A puts 1, 20, 50; B puts 5, 10, 100; C puts 1, 5, 20. All units are \"Yuan\". There are two persons A and B, and two of them can check out three plates and banknotes .（ A is ourself, The other is B）\n",
    "The game is divided into three steps: \n",
    "- 1、A select a plate from three plate.\n",
    "- 2、B take out two banknotes from A selected plate,and give the  banknotes to A.  \n",
    "- 3、A take one of the two banknotes, and take it away.among,A want to get the max banknotes, B want to let A to get the min.\n",
    "\n",
    "Try to understand the minimax algorithm，you can click the link:https://blog.csdn.net/tangchenyi/article/details/22920031"
   ]
  },
  {
   "cell_type": "markdown",
   "metadata": {},
   "source": [
    "_your answer here..._ \n",
    "<img src=\"img/0.jpg\" width=\"450\" height=\"300\" >\n",
    "***"
   ]
  },
  {
   "cell_type": "markdown",
   "metadata": {},
   "source": [
    "### Programming Excercises"
   ]
  },
  {
   "cell_type": "markdown",
   "metadata": {},
   "source": [
    "1\\. Guess number(Single number): please generate a randomly number  with the function (random), then ask someone to guess the number,I think we should give the corresponding hint, otherwise it will be very difficult to guess the number.the game will be over untill you get the right number."
   ]
  },
  {
   "cell_type": "code",
   "execution_count": 1,
   "metadata": {},
   "outputs": [
    {
     "name": "stdout",
     "output_type": "stream",
     "text": [
      "I guess it is: 4\n",
      "Congratulation! The real number is 4\n"
     ]
    }
   ],
   "source": [
    "## write your answer here!\n",
    "import random\n",
    "\n",
    "number = random.randint(0,9)\n",
    "#guess = input('I guess it is: ')\n",
    "while True:\n",
    "    guess = int(input('I guess it is: '))\n",
    "    if guess > number:\n",
    "        print('Your guess is larger than the number')\n",
    "    elif guess < number:\n",
    "        print('Your guess is smaller than the number')\n",
    "    else:\n",
    "        print('Congratulation! The real number is {}'.format(number))\n",
    "        break\n"
   ]
  },
  {
   "cell_type": "markdown",
   "metadata": {},
   "source": [
    "2\\.if you had understand the guess single number games,Congratulates,next is the guess three number games,Maybe you can do it well.But this is a different way of thinking. \n",
    "first : we need generate three numbers,there are most ten times chances give  you to guess the number,of course,we also give you some cue.\n",
    "\n",
    "- 'When I say:-->It means:\n",
    "- 'error--> The 3 numbers are not in the mystical numbers.'\n",
    "- 'Only the number is correct --> the number is right , but the position is not right.'\n",
    "- 'Absolutely right--> numbers is right and the position also right.'\n",
    "\n",
    "Maybe it's better for you to understand the rule well through see the picture.\n",
    "<div style=\"float:left;\" ><img src=\"img/p1.png\" width=\"400\" height=\"300\" >"
   ]
  },
  {
   "cell_type": "code",
   "execution_count": 2,
   "metadata": {},
   "outputs": [
    {
     "name": "stdout",
     "output_type": "stream",
     "text": [
      "There are 3 numbers,please guess what it is.\n",
      "This is the 1 time:123\n",
      "['error', 'error', 'Absolutely right']\n",
      "This is the 2 time:453\n",
      "['error', 'Absolutely right', 'Absolutely right']\n",
      "This is the 3 time:653\n",
      "['error', 'Absolutely right', 'Absolutely right']\n",
      "This is the 4 time:753\n",
      "['error', 'Absolutely right', 'Absolutely right']\n",
      "This is the 5 time:953\n",
      "['error', 'Absolutely right', 'Absolutely right']\n",
      "This is the 6 time:853\n",
      "['Absolutely right', 'Absolutely right', 'Absolutely right']\n",
      "Congratulation!\n",
      "Do you want to play again? (yes or no)no\n"
     ]
    }
   ],
   "source": [
    "## write your answer here!\n",
    "print('There are 3 numbers,please guess what it is.')\n",
    "# print('The clue I give is:')\n",
    "\n",
    "play = True\n",
    "while play == True:\n",
    "    chance = 0\n",
    "    number = random.randint(100,999)\n",
    "    n_list = list(map(int,str(number)))\n",
    "\n",
    "    while chance < 10:\n",
    "        result = []\n",
    "        chance += 1\n",
    "        guess = input('This is the {} time:'.format(chance))\n",
    "        g_list = list(map(int,guess))\n",
    "        if len(g_list) != len(n_list):\n",
    "            print('Please input 3 numbers')\n",
    "        else:\n",
    "            for i in range(len(g_list)):\n",
    "                if g_list[i] in n_list:\n",
    "                    if g_list[i] == n_list[i]:\n",
    "                        r = 'Absolutely right'\n",
    "                        result.append(r)\n",
    "                    else:\n",
    "                        r = 'Only the number is correct'\n",
    "                        result.append(r)\n",
    "                else:\n",
    "                    r = 'error'\n",
    "                    result.append(r)\n",
    "            print(result)\n",
    "            if int(guess) == number:\n",
    "                print('Congratulation!')\n",
    "                break\n",
    "    ans = input('Do you want to play again? (yes or no)')\n",
    "    if ans=='yes':\n",
    "        play = True\n",
    "    else:\n",
    "        play = False"
   ]
  },
  {
   "cell_type": "markdown",
   "metadata": {},
   "source": [
    "3\\.please try using Python's Tkinter to make a visual interface（GUI）.if you don't know anything.Maybe you can refer to the below interface.and implement it by code.\n",
    "\n",
    "<div style=\"float:left;\" ><img src=\"img/p2.png\" width=\"200\" height=\"200\" >"
   ]
  },
  {
   "cell_type": "code",
   "execution_count": 3,
   "metadata": {},
   "outputs": [],
   "source": [
    "## write your answer here!\n",
    "from tkinter import *           \n",
    "root = Tk()                     \n",
    "                               \n",
    "li     = ['C','python','php','html','SQL','java']\n",
    "movie  = ['CSS','jQuery','Bootstrap']\n",
    "listb  = Listbox(root)         \n",
    "listb2 = Listbox(root)\n",
    "for item in li:                \n",
    "    listb.insert(0,item)\n",
    " \n",
    "for item in movie:              \n",
    "    listb2.insert(0,item)\n",
    " \n",
    "listb.pack()                    \n",
    "listb2.pack()\n",
    "root.mainloop()                 "
   ]
  },
  {
   "cell_type": "markdown",
   "metadata": {},
   "source": [
    "4\\.Through the initial trial of Tkinter,    please write a simple calculator.\n",
    "\n",
    "<div style=\"float:left;\" ><img src=\"img/p3.png\" width=\"180\" height=\"200\" center=\"left\"></div>\n",
    "<div style=\"float:left;\" ><img src=\"img/p4.png\" width=\"180\" height=\"200\" center=\"right\" ></div>"
   ]
  },
  {
   "cell_type": "code",
   "execution_count": 4,
   "metadata": {},
   "outputs": [],
   "source": [
    "## write your answer here!\n",
    "from tkinter import *\n",
    "from tkinter.messagebox import showinfo\n",
    "\n",
    "\n",
    "class Calculator(Frame):\n",
    "\n",
    "    def keyPress(self, display):\n",
    "        text_check = list(display.get())\n",
    "        for i in range(len(text_check)):\n",
    "            if not (text_check[i] in list(''.join('0123456789+-*/'))):\n",
    "                display.set('')\n",
    "                showinfo(title='warning', message='please input number or operator!')\n",
    "            elif ('/0' in display.get()):\n",
    "                display.set('')\n",
    "                showinfo(title='warning', message='division by zero, please input number and operator again!')\n",
    "            else:\n",
    "                pass\n",
    "\n",
    "    def __init__(self):\n",
    "        Frame.__init__(self)\n",
    "        self.pack(expand=YES, fill=BOTH)\n",
    "        self.master.title('calculator')\n",
    "        self.master.rowconfigure(0, weight=1)\n",
    "        self.master.columnconfigure(0, weight=1)\n",
    "        self.grid(sticky=W + E + N + S)\n",
    "\n",
    "        display = StringVar()\n",
    "        entry = Entry(self, relief=SUNKEN, textvariable=display)\n",
    "        entry.grid(row=0, column=0, columnspan=4, sticky=W + E + N + S)\n",
    "        entry.bind('<KeyRelease>', lambda s=self, w=display: self.keyPress(w))\n",
    "\n",
    "        grid = \"C±←C12345678.90=+-*/\"\n",
    "        for index, textChar in enumerate(grid):\n",
    "            if index==3:\n",
    "                a = Button(self, text=\"CE\", width=5,command=lambda text=textChar: display.set(display.get() + text))\n",
    "            else:\n",
    "                a = Button(self, text=textChar, width=5, command=lambda text=textChar: display.set(display.get() + text))\n",
    "            a.grid(row=1 + index // 4, column=index % 4)\n",
    "            button_text = a.cget(\"text\")\n",
    "            if button_text == '=':\n",
    "                a.config(command=lambda: display.set(eval(display.get())))\n",
    "            elif button_text == 'C' or button_text == 'CE':\n",
    "                a.config(command=lambda: display.set(\"\"))\n",
    "            elif button_text == '←':\n",
    "                a.config(command=lambda: display.set(display.get()[:-1]))\n",
    "            elif button_text == '±':\n",
    "                a.config(command=lambda: display.set(display.get()[:-1] + '-' + display.get()[-1]))\n",
    "        b = Button(self, text=\"help\", width=20, command=lambda: display.set(\"Go Google\"))\n",
    "        b.grid(row=7, column=0, columnspan=4, sticky=W + E + N + S)\n",
    "\n",
    "if __name__ == '__main__':\n",
    "    Calculator().mainloop()"
   ]
  },
  {
   "cell_type": "markdown",
   "metadata": {},
   "source": [
    "5\\.Ball game:Python's pinball game, which can realize the game function of the keyboard control bottom baffle moving collision ball similar to table tennis game. \n",
    "\n",
    "<div style=\"float:left;\" ><img src=\"img/p5.png\" width=\"200\" height=\"200\" center=\"left\"></div>\n",
    "<div style=\"float:left;\" ><img src=\"img/p6.png\" width=\"200\" height=\"200\" center=\"right\" ></div>\n"
   ]
  },
  {
   "cell_type": "markdown",
   "metadata": {},
   "source": [
    "this is a step:how to install the matplotlib,you can reference this link:https://blog.csdn.net/not_give_up_/article/details/79058272\n",
    "1. Ball Class\n",
    "    draw is responsible for moving Ball\n",
    "    Collision detection, bounce, Ball detection of Paddle \n",
    "2. Paddle Class\n",
    "    draw is responsible for moving Paddle\n",
    "    Collision detection to determine whether or not to continue ,Monitor keyboard events\n",
    "3. main cycle\n",
    "    Drawing the Ball and Paddle"
   ]
  },
  {
   "cell_type": "code",
   "execution_count": 9,
   "metadata": {},
   "outputs": [
    {
     "ename": "TclError",
     "evalue": "can't invoke \"update\" command: application has been destroyed",
     "output_type": "error",
     "traceback": [
      "\u001b[1;31m---------------------------------------------------------------------------\u001b[0m",
      "\u001b[1;31mTclError\u001b[0m                                  Traceback (most recent call last)",
      "\u001b[1;32m<ipython-input-9-4ae027031cc6>\u001b[0m in \u001b[0;36m<module>\u001b[1;34m()\u001b[0m\n\u001b[0;32m     64\u001b[0m     \u001b[0mball\u001b[0m\u001b[1;33m.\u001b[0m\u001b[0mdraw\u001b[0m\u001b[1;33m(\u001b[0m\u001b[1;33m)\u001b[0m\u001b[1;33m\u001b[0m\u001b[0m\n\u001b[0;32m     65\u001b[0m     \u001b[0mpaddle\u001b[0m\u001b[1;33m.\u001b[0m\u001b[0mdraw\u001b[0m\u001b[1;33m(\u001b[0m\u001b[1;33m)\u001b[0m\u001b[1;33m\u001b[0m\u001b[0m\n\u001b[1;32m---> 66\u001b[1;33m   \u001b[0mtk\u001b[0m\u001b[1;33m.\u001b[0m\u001b[0mupdate_idletasks\u001b[0m\u001b[1;33m(\u001b[0m\u001b[1;33m)\u001b[0m\u001b[1;33m\u001b[0m\u001b[0m\n\u001b[0m\u001b[0;32m     67\u001b[0m   \u001b[0mtk\u001b[0m\u001b[1;33m.\u001b[0m\u001b[0mupdate\u001b[0m\u001b[1;33m(\u001b[0m\u001b[1;33m)\u001b[0m\u001b[1;33m\u001b[0m\u001b[0m\n\u001b[0;32m     68\u001b[0m   \u001b[0mtime\u001b[0m\u001b[1;33m.\u001b[0m\u001b[0msleep\u001b[0m\u001b[1;33m(\u001b[0m\u001b[1;36m0.01\u001b[0m\u001b[1;33m)\u001b[0m\u001b[1;33m\u001b[0m\u001b[0m\n",
      "\u001b[1;32mD:\\Anaconda\\lib\\tkinter\\__init__.py\u001b[0m in \u001b[0;36mupdate_idletasks\u001b[1;34m(self)\u001b[0m\n\u001b[0;32m   1174\u001b[0m         \u001b[0mwill\u001b[0m \u001b[0mupdate\u001b[0m \u001b[0mthe\u001b[0m \u001b[0mdisplay\u001b[0m \u001b[0mof\u001b[0m \u001b[0mwindows\u001b[0m \u001b[0mbut\u001b[0m \u001b[1;32mnot\u001b[0m \u001b[0mprocess\u001b[0m \u001b[0mevents\u001b[0m \u001b[0mcaused\u001b[0m \u001b[0mby\u001b[0m\u001b[1;33m\u001b[0m\u001b[0m\n\u001b[0;32m   1175\u001b[0m         the user.\"\"\"\n\u001b[1;32m-> 1176\u001b[1;33m         \u001b[0mself\u001b[0m\u001b[1;33m.\u001b[0m\u001b[0mtk\u001b[0m\u001b[1;33m.\u001b[0m\u001b[0mcall\u001b[0m\u001b[1;33m(\u001b[0m\u001b[1;34m'update'\u001b[0m\u001b[1;33m,\u001b[0m \u001b[1;34m'idletasks'\u001b[0m\u001b[1;33m)\u001b[0m\u001b[1;33m\u001b[0m\u001b[0m\n\u001b[0m\u001b[0;32m   1177\u001b[0m     \u001b[1;32mdef\u001b[0m \u001b[0mbindtags\u001b[0m\u001b[1;33m(\u001b[0m\u001b[0mself\u001b[0m\u001b[1;33m,\u001b[0m \u001b[0mtagList\u001b[0m\u001b[1;33m=\u001b[0m\u001b[1;32mNone\u001b[0m\u001b[1;33m)\u001b[0m\u001b[1;33m:\u001b[0m\u001b[1;33m\u001b[0m\u001b[0m\n\u001b[0;32m   1178\u001b[0m         \"\"\"Set or get the list of bindtags for this widget.\n",
      "\u001b[1;31mTclError\u001b[0m: can't invoke \"update\" command: application has been destroyed"
     ]
    }
   ],
   "source": [
    "## write your answer here!\n",
    "from tkinter import *\n",
    "import matplotlib\n",
    "matplotlib.use('Agg')\n",
    "import random\n",
    "import time\n",
    "class Ball:\n",
    "  def __init__(self, canvas, paddle, color):\n",
    "    self.canvas = canvas\n",
    "    self.paddle = paddle\n",
    "    self.id = canvas.create_oval(10, 10, 25, 25, fill=color)\n",
    "    self.canvas.move(self.id, 245, 100)\n",
    "    startx = [-3, -2, -1, 1, 2, 3]\n",
    "    random.shuffle(startx)\n",
    "    self.x = startx[0]\n",
    "    self.y = -3\n",
    "    self.canvas_height = self.canvas.winfo_height()\n",
    "    self.canvas_width = self.canvas.winfo_width()\n",
    "    self.hit_bottom = False\n",
    "  def draw(self):\n",
    "    self.canvas.move(self.id, self.x, self.y)\n",
    "    pos = self.canvas.coords(self.id)#top-left bottom-right\n",
    "    if (pos[1] <= 0 or self.hit_paddle(pos) == True):\n",
    "      self.y = -self.y\n",
    "    if (pos[0] <= 0 or pos[2] >= self.canvas_width):\n",
    "      self.x = -self.x\n",
    "    if (pos[3] >= self.canvas_height):\n",
    "      self.hit_bottom = True\n",
    "  def hit_paddle(self, pos):\n",
    "    paddle_pos = self.canvas.coords(self.paddle.id)\n",
    "    if (pos[2] >= paddle_pos[0] and pos[0] <= paddle_pos[2]):\n",
    "      if (pos[3] >= paddle_pos[1] and pos[3] <= paddle_pos[3]):\n",
    "        return True\n",
    "    return False\n",
    "\n",
    "class Paddle:\n",
    "  def __init__(self, canvas, color):\n",
    "    self.canvas = canvas\n",
    "    self.id = canvas.create_rectangle(0, 0, 100, 10, fill = color)\n",
    "    self.x = 0\n",
    "    self.canvas.move(self.id, 200, 300)\n",
    "    self.canvas_width = self.canvas.winfo_width()\n",
    "    self.canvas.bind_all(\"<Key-Left>\", self.turn_left)\n",
    "    self.canvas.bind_all(\"<Key-Right>\", self.turn_right)\n",
    "  def draw(self):\n",
    "    pos = self.canvas.coords(self.id)\n",
    "    if (pos[0] + self.x >= 0 and pos[2] + self.x <= self.canvas_width):\n",
    "      self.canvas.move(self.id, self.x, 0)\n",
    "    #self.x = 0\n",
    "  def turn_left(self, event):\n",
    "    self.x = -4\n",
    "  def turn_right(self, event):\n",
    "    self.x = 4\n",
    "tk = Tk()\n",
    "tk.title(\"Game\")\n",
    "tk.resizable(0, 0)#not resizable\n",
    "tk.wm_attributes(\"-topmost\", 1)#at top\n",
    "canvas = Canvas(tk, width = 500, height = 500, bd = 0, highlightthickness = 0)\n",
    "canvas.pack()\n",
    "tk.update()#init\n",
    "paddle = Paddle(canvas, 'blue')\n",
    "ball = Ball(canvas, paddle, 'red')\n",
    "while 1:\n",
    "  if (ball.hit_bottom == False):\n",
    "    ball.draw()\n",
    "    paddle.draw()\n",
    "  tk.update_idletasks()\n",
    "  tk.update()\n",
    "  time.sleep(0.01)"
   ]
  },
  {
   "cell_type": "code",
   "execution_count": null,
   "metadata": {},
   "outputs": [],
   "source": []
  }
 ],
 "metadata": {
  "kernelspec": {
   "display_name": "Python 3",
   "language": "python",
   "name": "python3"
  },
  "language_info": {
   "codemirror_mode": {
    "name": "ipython",
    "version": 3
   },
   "file_extension": ".py",
   "mimetype": "text/x-python",
   "name": "python",
   "nbconvert_exporter": "python",
   "pygments_lexer": "ipython3",
   "version": "3.6.4"
  }
 },
 "nbformat": 4,
 "nbformat_minor": 2
}
